{
 "cells": [
  {
   "cell_type": "markdown",
   "metadata": {},
   "source": [
    "# Método do Ponto Fixo"
   ]
  },
  {
   "cell_type": "code",
   "execution_count": 34,
   "metadata": {},
   "outputs": [],
   "source": [
    "from pylab import plot,show\n",
    "from numpy import array,linspace,sqrt,sin\n",
    "from numpy.linalg import norm\n",
    "import math"
   ]
  },
  {
   "cell_type": "code",
   "execution_count": 5,
   "metadata": {},
   "outputs": [],
   "source": [
    "def fixedp(f,x0,tol=10e-5,maxiter=100):\n",
    "    \n",
    "    e = 1\n",
    "    itr = 0\n",
    "    xp = []\n",
    "    \n",
    "    while(e>tol and itr < maxiter):\n",
    "        x = f(x0) #equação do ponto fixo\n",
    "        e = norm(x0-x) #erro atual\n",
    "        x0 = x\n",
    "        xp.append(x0)\n",
    "        itr += 1\n",
    "    return x,xp"
   ]
  },
  {
   "cell_type": "markdown",
   "metadata": {},
   "source": [
    "Exemplo de definir as funçoes "
   ]
  },
  {
   "cell_type": "code",
   "execution_count": 7,
   "metadata": {},
   "outputs": [],
   "source": [
    "def f1(x):\n",
    "    x = (x**2) - 2\n",
    "    return x\n",
    "\n",
    "def f2(x):\n",
    "    x = sqrt(2+x)\n",
    "    return x"
   ]
  },
  {
   "cell_type": "code",
   "execution_count": 22,
   "metadata": {},
   "outputs": [
    {
     "data": {
      "text/plain": [
       "(1.9999289387267933,\n",
       " [-1.9999,\n",
       "  1.99960001,\n",
       "  1.998400199992,\n",
       "  1.9936033593280658,\n",
       "  1.9744543543241488,\n",
       "  1.8984699973095913,\n",
       "  1.6041883306846798,\n",
       "  0.5734202003048998,\n",
       "  -1.6711892738822884,\n",
       "  0.7928735891392105,\n",
       "  -1.3713514716455064,\n",
       "  -0.11939514121570372,\n",
       "  -1.985744800254082,\n",
       "  1.9431824117361245,\n",
       "  1.7759578852806213,\n",
       "  1.1540264102904163,\n",
       "  -0.6682230443522157,\n",
       "  -1.5534779629966569,\n",
       "  0.4132937815162423,\n",
       "  -1.8291882501600045,\n",
       "  1.3459296545234194,\n",
       "  -0.188473365074469,\n",
       "  -1.964477790657506,\n",
       "  1.8591729899865959,\n",
       "  1.4565242066956987,\n",
       "  0.12146276469053463,\n",
       "  -1.9852467967937317,\n",
       "  1.9412048441797722,\n",
       "  1.7682762470670137,\n",
       "  1.1268008859414023,\n",
       "  -0.7303197634416709,\n",
       "  -1.4666330431265018,\n",
       "  0.1510124831905033,\n",
       "  -1.977195229920638,\n",
       "  1.9093009772209242,\n",
       "  1.6454302216167762,\n",
       "  0.7074406142098333,\n",
       "  -1.499527777366414,\n",
       "  0.24858355509345742,\n",
       "  -1.938206216137098,\n",
       "  1.7566433362724876,\n",
       "  1.0857958108705361,\n",
       "  -0.8210474570959949,\n",
       "  -1.3258810731962005,\n",
       "  -0.2420393797400915,\n",
       "  -1.9414169386550317,\n",
       "  1.7690997296966753,\n",
       "  1.1297138536128495,\n",
       "  -0.7237466089552054,\n",
       "  -1.476190846025841,\n",
       "  0.17913941389048826,\n",
       "  -1.9679090703909723,\n",
       "  1.872666109327061,\n",
       "  1.5068783570221518,\n",
       "  0.2706823828617795,\n",
       "  -1.926731047608269,\n",
       "  1.712292529817658,\n",
       "  0.9319457076693549,\n",
       "  -1.1314771979566651,\n",
       "  -0.7197593505041335,\n",
       "  -1.4819464773618678,\n",
       "  0.196165361765249,\n",
       "  -1.961519150843509,\n",
       "  1.8475573791258406,\n",
       "  1.4134682691623452,\n",
       "  -0.0021074520712038858,\n",
       "  -1.9999955586457676,\n",
       "  1.999982234602796,\n",
       "  1.9999289387267933])"
      ]
     },
     "execution_count": 22,
     "metadata": {},
     "output_type": "execute_result"
    }
   ],
   "source": [
    "##Testando ----\n",
    "\n",
    "#fixedp(f1,0.01) converge\n",
    "#fixedp(f1,0.06) converge\n",
    "\n",
    "#fixedp(f1,0) #converge em 1 interação\n",
    "\n",
    "fixedp(f1,-0.01) #converge tbm"
   ]
  },
  {
   "cell_type": "code",
   "execution_count": null,
   "metadata": {},
   "outputs": [],
   "source": []
  },
  {
   "cell_type": "markdown",
   "metadata": {},
   "source": [
    "# Método da Bisseção "
   ]
  },
  {
   "cell_type": "code",
   "execution_count": 39,
   "metadata": {},
   "outputs": [],
   "source": [
    "#Código de erro\n",
    "    # 0 -execução normal\n",
    "    # 1 - [a,b] não isolado numa raiz ou contém muitas raízes (sai do intervalo simétrico)\n",
    "    # 2 - números de interações execedidas\n",
    "\n",
    "def Bisect(Func,a,b):\n",
    "    eps = 1e-10\n",
    "    itmax = 100\n",
    "    \n",
    "    x = a\n",
    "    fa = Func(x)\n",
    "    \n",
    "    if(math.fabs(fa) == 0e0): \n",
    "        return (x,0)\n",
    "    x = b\n",
    "    fb = Func(x)\n",
    "    \n",
    "    if(math.fabs(fb) == 0e0):\n",
    "        return (x,0)\n",
    "    \n",
    "    if(fa*fb > 0 ): #sai do intervalo (-x1,+x2)\n",
    "        return (x,1)\n",
    "    \n",
    "    for it in range(1,itmax+1):\n",
    "        x = 0.5e0 * (a+b);\n",
    "        fx = Func(x)\n",
    "        if(fa*fx > 0 ):\n",
    "            a = x\n",
    "        else:\n",
    "            b=x\n",
    "        if( ((b-a) <= eps*math.fabs(x)) or (math.fabs(fx) <= eps) ):\n",
    "            return (x,0)\n",
    "    print(\"Bisseção: max de iterações excedidas\")\n",
    "    return (x,2)\n",
    "    \n",
    "    "
   ]
  },
  {
   "cell_type": "markdown",
   "metadata": {},
   "source": [
    "Exemplo de definir as funçoes "
   ]
  },
  {
   "cell_type": "code",
   "execution_count": 35,
   "metadata": {},
   "outputs": [],
   "source": [
    "def f1(x):\n",
    "    return 2*(x**3)  - math.cos(x+1) - 3 \n"
   ]
  },
  {
   "cell_type": "code",
   "execution_count": 40,
   "metadata": {},
   "outputs": [
    {
     "data": {
      "text/plain": [
       "(1.0791220378887374, 0)"
      ]
     },
     "execution_count": 40,
     "metadata": {},
     "output_type": "execute_result"
    }
   ],
   "source": [
    "Bisect(f1,-1,2) #isso funciona hehehe"
   ]
  },
  {
   "cell_type": "code",
   "execution_count": null,
   "metadata": {},
   "outputs": [],
   "source": []
  },
  {
   "cell_type": "markdown",
   "metadata": {},
   "source": [
    "# Método das Secantes"
   ]
  },
  {
   "cell_type": "code",
   "execution_count": 47,
   "metadata": {},
   "outputs": [],
   "source": [
    "#Código de erro\n",
    "    # 0 - intervalo não contém uma raiz\n",
    "    # 1 - o intervalo não contém uma raiz\n",
    "    # 2 - nmáximo de iterações execidas\n",
    "\n",
    "def Secant(Func,a,b,x): #esse x é uma aprox inicial\n",
    "    eps = 1e-10 #tolerância\n",
    "    itmax = 1000\n",
    "    \n",
    "    x0 = x\n",
    "    f0 = Func(x0)\n",
    "    x = x0 - f0\n",
    "    \n",
    "    for it in range(1,itmax+1):\n",
    "        f = Func(x)\n",
    "        df = (f-f0)/(x-x0)\n",
    "        x0 = x\n",
    "        f0 = f\n",
    "        \n",
    "        dx = -f/df if math.fabs(df) > eps else -f\n",
    "        x += dx\n",
    "        \n",
    "        if( (x<a) or (x>b) ):\n",
    "            return (x,1)\n",
    "        \n",
    "        if( math.fabs(dx) <= eps*math.fabs(x)  ):\n",
    "            return (x,0)\n",
    "        \n",
    "    print(\"Deu ruim, número máximo de iterações execido\")\n",
    "    return (x,2)\n",
    "    "
   ]
  },
  {
   "cell_type": "code",
   "execution_count": 48,
   "metadata": {},
   "outputs": [],
   "source": [
    "def f1(x):\n",
    "    return 2*(x**3)  - math.cos(x+1) - 3 "
   ]
  },
  {
   "cell_type": "code",
   "execution_count": 55,
   "metadata": {},
   "outputs": [
    {
     "data": {
      "text/plain": [
       "(1.0791220378399964, 0)"
      ]
     },
     "execution_count": 55,
     "metadata": {},
     "output_type": "execute_result"
    }
   ],
   "source": [
    "Secant(f1,-1,2,1) #cuidado o resultado depende do x inicial(aproximação inicial da raiz) que você passa"
   ]
  },
  {
   "cell_type": "markdown",
   "metadata": {},
   "source": [
    "# Método da Regula Falsi (Falsa Posição)"
   ]
  },
  {
   "cell_type": "code",
   "execution_count": 70,
   "metadata": {},
   "outputs": [],
   "source": [
    "#Código de erro\n",
    "    # 0 - intervalo não contém uma raiz\n",
    "    # 1 - [a,b] não contém uma raiz ou contém mais de uma\n",
    "    # 2 - máximo de iterações execidas\n",
    "\n",
    "def Secant(Func,a,b): #esse x é uma aprox inicial\n",
    "    eps = 1e-10 #tolerância\n",
    "    itmax = 1000\n",
    "    \n",
    "    x=a\n",
    "    fa = Func(x)\n",
    "    \n",
    "    if(math.fabs(fa) == 0e0):\n",
    "        return (x,0)\n",
    "    \n",
    "    x = b\n",
    "    fb = Func(x)\n",
    "    \n",
    "    if(math.fabs(fb) == 0e0):\n",
    "        return (x,1)\n",
    "    \n",
    "    if(fa*fb > 0):\n",
    "        return (x,1)\n",
    "    \n",
    "    for it in range(1,itmax+1):\n",
    "        x = (a*fb - b*fa) / (fb - fa)\n",
    "        fx = Func(x)\n",
    "        \n",
    "        if(fa * fx > 0):\n",
    "            dx = x - a\n",
    "            a = x\n",
    "            fa = fx\n",
    "        else:\n",
    "            dx = b-x\n",
    "            b = x\n",
    "            fb = fx\n",
    "            if( ( math.fabs(dx) <= (eps*math.fabs(x)) ) or (math.fabs(fx) <= eps) ):\n",
    "                return (x,0)\n",
    "            \n",
    "    print(\"Número de iterações execido!! \")\n",
    "    return (x,2)"
   ]
  },
  {
   "cell_type": "code",
   "execution_count": 71,
   "metadata": {},
   "outputs": [],
   "source": [
    "def f1(x):\n",
    "    return 2*(x**3)  - math.cos(x+1) - 3 "
   ]
  },
  {
   "cell_type": "code",
   "execution_count": 72,
   "metadata": {},
   "outputs": [
    {
     "data": {
      "text/plain": [
       "(1.0791220378399966, 0)"
      ]
     },
     "execution_count": 72,
     "metadata": {},
     "output_type": "execute_result"
    }
   ],
   "source": [
    "Secant(f1,-1,2)"
   ]
  },
  {
   "cell_type": "markdown",
   "metadata": {},
   "source": [
    "# Método Pégasu (Pegasus)"
   ]
  },
  {
   "cell_type": "code",
   "execution_count": null,
   "metadata": {},
   "outputs": [],
   "source": [
    "###Eu que implementei esse a partir do algoritmo (não tem no slide em python)\n",
    "\n",
    "#Código de erro\n",
    "    # 0 - intervalo não contém uma raiz\n",
    "    # 1 - [a,b] não contém uma raiz ou contém mais de uma\n",
    "    # 2 - máximo de iterações execidas"
   ]
  },
  {
   "cell_type": "markdown",
   "metadata": {},
   "source": [
    "LEMBREI QUE NÃO FOI IMPLEMENTADO, PORQUE ELE SÓ É USADO PARA ACELERAR A CONVERGÊNCIA, EM DETERMINADOS PONTOS ESTRATÉGICOS"
   ]
  },
  {
   "cell_type": "markdown",
   "metadata": {},
   "source": [
    "# Método de Newton (da tangente)"
   ]
  },
  {
   "cell_type": "code",
   "execution_count": 84,
   "metadata": {},
   "outputs": [],
   "source": [
    "#Código de erro\n",
    "    # 0 - execução normal\n",
    "    # 1 - o intervalo não contém uma raiz\n",
    "    # 2 - número máximo de iterações execedido\n",
    "\n",
    "def newton(Func,a,b,x): #x é uma aproximação inicial\n",
    "    eps = 1e-10\n",
    "    itmax = 100\n",
    "    \n",
    "    for it in range(1,itmax+1):\n",
    "        f = Func(x)\n",
    "        dx = eps*math.fabs(x) if x else eps\n",
    "        df = (Func(x+dx)-f)/dx\n",
    "        dx = -f/df if math.fabs(df) > eps else -f\n",
    "        x += dx\n",
    "        \n",
    "        if ( (x<a) or (x>b) ):\n",
    "            return (x,1)\n",
    "        if(math.fabs(dx) <= eps*math.fabs(x)):\n",
    "            return (x,0)\n",
    "    print(\"Número máximo de iterações execedido\")\n",
    "    return (x,2)\n",
    "    \n",
    "#PRECISO DEFINIR AS DERIVADAS A PARTE, OBSERVE ABAIXO"
   ]
  },
  {
   "cell_type": "code",
   "execution_count": 85,
   "metadata": {},
   "outputs": [],
   "source": [
    "def f1(x):\n",
    "    return ( x**4 + 2*(x**3) - 13*(x**2) - 14*x + 24 )"
   ]
  },
  {
   "cell_type": "code",
   "execution_count": 93,
   "metadata": {},
   "outputs": [
    {
     "data": {
      "text/plain": [
       "(2.9999999999999996, 0)"
      ]
     },
     "execution_count": 93,
     "metadata": {},
     "output_type": "execute_result"
    }
   ],
   "source": [
    "newton(f1,2,4,2.45) #esse 2 e 4 foram obtidos a parte (observar slides)\n",
    "##x é uma aproximação inicial\n",
    "\n",
    "#MUITO SENSÍVEL AO X INICIAL"
   ]
  },
  {
   "cell_type": "markdown",
   "metadata": {},
   "source": [
    "## Método de Schröder\n",
    "\n",
    "(é análogo ao de Newton mas é preciso conhecer a multiplicidade) ela não implementou"
   ]
  },
  {
   "cell_type": "code",
   "execution_count": null,
   "metadata": {},
   "outputs": [],
   "source": []
  }
 ],
 "metadata": {
  "kernelspec": {
   "display_name": "Python 3",
   "language": "python",
   "name": "python3"
  },
  "language_info": {
   "codemirror_mode": {
    "name": "ipython",
    "version": 3
   },
   "file_extension": ".py",
   "mimetype": "text/x-python",
   "name": "python",
   "nbconvert_exporter": "python",
   "pygments_lexer": "ipython3",
   "version": "3.8.5"
  }
 },
 "nbformat": 4,
 "nbformat_minor": 4
}
